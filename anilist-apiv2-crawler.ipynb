{
 "cells": [
  {
   "cell_type": "code",
   "execution_count": 29,
   "metadata": {},
   "outputs": [],
   "source": [
    "import requests\n",
    "\n",
    "# Here we define our query as a multi-line string\n",
    "query = '''\n",
    "query ($search: String) { # Define which variables will be used in the query (id)\n",
    "  Media (type: ANIME, search: $search) { # Insert our variables into the query arguments (id) (type: ANIME is hard-coded in the query)\n",
    "    id\n",
    "    title {\n",
    "      romaji\n",
    "      english\n",
    "      native\n",
    "    }\n",
    "    coverImage {\n",
    "      extraLarge\n",
    "    }\n",
    "  }\n",
    "}\n",
    "'''\n",
    "\n",
    "# Define our query variables and values that will be used in the query request\n",
    "variables = {\n",
    "    'search': 'Initial D Fifth Stage'\n",
    "}\n",
    "\n",
    "url = 'https://graphql.anilist.co'\n",
    "\n",
    "# Make the HTTP Api request\n",
    "response = requests.post(url, json={'query': query, 'variables': variables})"
   ]
  },
  {
   "cell_type": "code",
   "execution_count": 30,
   "metadata": {},
   "outputs": [
    {
     "name": "stdout",
     "output_type": "stream",
     "text": [
      "{'data': {'Media': {'id': 15059, 'title': {'romaji': 'Initial D Fifth Stage', 'english': None, 'native': '頭文字〈イニシャル〉D Fifth Stage'}, 'coverImage': {'extraLarge': 'https://s4.anilist.co/file/anilistcdn/media/anime/cover/medium/15059.jpg'}}}}\n"
     ]
    }
   ],
   "source": [
    "import json\n",
    "\n",
    "json_data = json.loads(response.text)\n",
    "# print(json_data['data']['Media']['coverImage']['extraLarge'])\n",
    "print(json_data)"
   ]
  }
 ],
 "metadata": {
  "kernelspec": {
   "display_name": "comp7065",
   "language": "python",
   "name": "python3"
  },
  "language_info": {
   "codemirror_mode": {
    "name": "ipython",
    "version": 3
   },
   "file_extension": ".py",
   "mimetype": "text/x-python",
   "name": "python",
   "nbconvert_exporter": "python",
   "pygments_lexer": "ipython3",
   "version": "3.11.3"
  }
 },
 "nbformat": 4,
 "nbformat_minor": 2
}
