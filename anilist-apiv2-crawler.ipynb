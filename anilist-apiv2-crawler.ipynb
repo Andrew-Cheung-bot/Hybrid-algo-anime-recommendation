{
 "cells": [
  {
   "cell_type": "code",
   "execution_count": 15,
   "metadata": {},
   "outputs": [],
   "source": [
    "import requests\n",
    "\n",
    "# Here we define our query as a multi-line string\n",
    "query = '''\n",
    "query ($search: String) { # Define which variables will be used in the query (id)\n",
    "  Media (type: ANIME, search: $search) { # Insert our variables into the query arguments (id) (type: ANIME is hard-coded in the query)\n",
    "    id\n",
    "    title {\n",
    "      romaji\n",
    "      english\n",
    "      native\n",
    "    }\n",
    "    coverImage {\n",
    "      extraLarge\n",
    "    }\n",
    "  }\n",
    "}\n",
    "'''\n",
    "\n",
    "# Define our query variables and values that will be used in the query request\n",
    "variables = {\n",
    "    'search': '22507'\n",
    "}\n",
    "\n",
    "url = 'https://graphql.anilist.co'\n",
    "\n",
    "# Make the HTTP Api request\n",
    "response = requests.post(url, json={'query': query, 'variables': variables})"
   ]
  },
  {
   "cell_type": "code",
   "execution_count": 16,
   "metadata": {},
   "outputs": [
    {
     "name": "stdout",
     "output_type": "stream",
     "text": [
      "{'data': None, 'errors': [{'message': 'Too Many Requests.', 'status': 429}]}\n"
     ]
    }
   ],
   "source": [
    "import json\n",
    "\n",
    "json_data = json.loads(response.text)\n",
    "# print(json_data['data']['Media']['coverImage']['extraLarge'])\n",
    "print(json_data)"
   ]
  }
 ],
 "metadata": {
  "kernelspec": {
   "display_name": "comp7065",
   "language": "python",
   "name": "python3"
  },
  "language_info": {
   "codemirror_mode": {
    "name": "ipython",
    "version": 3
   },
   "file_extension": ".py",
   "mimetype": "text/x-python",
   "name": "python",
   "nbconvert_exporter": "python",
   "pygments_lexer": "ipython3",
   "version": "3.11.3"
  }
 },
 "nbformat": 4,
 "nbformat_minor": 2
}
